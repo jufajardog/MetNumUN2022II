{
  "nbformat": 4,
  "nbformat_minor": 0,
  "metadata": {
    "colab": {
      "provenance": [],
      "collapsed_sections": []
    },
    "kernelspec": {
      "name": "python3",
      "display_name": "Python 3"
    },
    "language_info": {
      "name": "python"
    }
  },
  "cells": [
    {
      "cell_type": "code",
      "execution_count": null,
      "metadata": {
        "id": "7rRe2rFV7pmS"
      },
      "outputs": [],
      "source": [
        "https://www.linkedin.com/in/juan-sebastian-fajardo-gutierrez-730994254/\n",
        "\n",
        "\n"
      ]
    }
  ]
}